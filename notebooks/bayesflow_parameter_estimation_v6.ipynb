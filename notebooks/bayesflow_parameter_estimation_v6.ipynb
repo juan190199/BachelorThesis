{
 "cells": [
  {
   "cell_type": "code",
   "execution_count": 1,
   "id": "qualified-prime",
   "metadata": {},
   "outputs": [],
   "source": [
    "import os\n",
    "import sys\n",
    "\n",
    "module_path = os.path.abspath(os.path.join('..'))\n",
    "if module_path not in sys.path:\n",
    "    sys.path.append(module_path)"
   ]
  },
  {
   "cell_type": "code",
   "execution_count": 2,
   "id": "fatty-australian",
   "metadata": {},
   "outputs": [],
   "source": [
    "import numpy as np\n",
    "import tensorflow as tf\n",
    "from scipy import stats\n",
    "from sklearn.metrics import r2_score\n",
    "from tensorflow.keras.regularizers import l2\n",
    "\n",
    "from tqdm import tqdm\n",
    "from functools import partial\n",
    "\n",
    "import matplotlib.pyplot as plt\n",
    "import pandas as pd\n",
    "import seaborn as sns\n",
    "\n",
    "from matplotlib import cm\n",
    "\n",
    "# Data\n",
    "from seird.model import data_generator, version_data_model\n",
    "from seird.sanity_checks import sampling_sc\n",
    "\n",
    "# Model\n",
    "from bayesflow.networks import SequenceNet, HeteroskedasticModel\n",
    "from bayesflow.bayesflow_model import BayesFlow\n",
    "from bayesflow.trainer import train_step\n",
    "from bayesflow.losses import heteroskedastic_loss, maximum_likelihood_loss\n",
    "\n",
    "# Misc\n",
    "from utils.misc import (true_vs_estimated, plot_parameters_correlation, plot_tseries, plot_predictions)\n",
    "\n",
    "\n",
    "%load_ext autoreload\n",
    "%autoreload 2"
   ]
  },
  {
   "cell_type": "code",
   "execution_count": 3,
   "id": "developmental-wallet",
   "metadata": {},
   "outputs": [],
   "source": [
    "# Network hyperparameters\n",
    "inv_meta = {\n",
    "    'n_units': [64, 64, 64],\n",
    "    'activation': 'elu',\n",
    "    'w_decay': 0.0,\n",
    "    'initializer': 'glorot_uniform'\n",
    "}\n",
    "n_inv_blocks = 5\n",
    "\n",
    "# Optional if using the predefined summary nets\n",
    "summary_meta = {\n",
    "    'lstm_units': [192, 192, 192],\n",
    "    'activation': 'elu',\n",
    "    'w_decay': 0.0,\n",
    "    'initializer': 'glorot_uniform'\n",
    "}\n",
    "\n",
    "\n",
    "# Forward model hyperparameters\n",
    "parameter_names = [\n",
    "    r'$\\beta$', r'$\\sigma$', r'$\\gamma$', r'$\\xi$', r'$\\mu_I$', \n",
    "    r'$\\beta_Q$', r'$\\sigma_Q$', r'$\\gamma_Q$', r'$\\mu_Q$', \n",
    "    r'$\\theta_E$', r'$\\theta_I$', r'$\\psi_E$', r'$\\psi_I$', \n",
    "    r'$\\nu$', r'$\\mu_0$', r'$\\q$'\n",
    "]\n",
    "theta_dim = len(parameter_names)\n",
    "n_test = 500\n",
    "\n",
    "\n",
    "# Training and optimizer hyperparameters\n",
    "ckpt_file = 'bayesflow_parameter_estimation_v6'\n",
    "batch_size = 64\n",
    "epochs = 100\n",
    "iterations_per_epoch = 1000\n",
    "n_samples_posterior = 2000\n",
    "\n",
    "starter_learning_rate = 0.001\n",
    "global_step = tf.Variable(0, dtype=tf.int32)\n",
    "decay_steps = 1000\n",
    "decay_rate = .95\n",
    "learning_rate = tf.keras.optimizers.schedules.ExponentialDecay(starter_learning_rate, decay_steps, decay_rate)\n",
    "optimizer = tf.keras.optimizers.Adam(learning_rate)"
   ]
  },
  {
   "cell_type": "code",
   "execution_count": 4,
   "id": "legal-agriculture",
   "metadata": {},
   "outputs": [
    {
     "name": "stdout",
     "output_type": "stream",
     "text": [
      "CPU times: user 301 ms, sys: 6.11 ms, total: 307 ms\n",
      "Wall time: 314 ms\n"
     ]
    }
   ],
   "source": [
    "%%time\n",
    "data_test = data_generator(n_test, version='v6')\n",
    "\n",
    "# Preprocessing untrained data\n",
    "X_test = np.array(data_test['X'])\n",
    "params_test = np.array(data_test['params'])"
   ]
  },
  {
   "cell_type": "code",
   "execution_count": 5,
   "id": "accepting-pickup",
   "metadata": {},
   "outputs": [
    {
     "name": "stdout",
     "output_type": "stream",
     "text": [
      "<class 'numpy.ndarray'>\n",
      "(500, 100, 7)\n",
      "<class 'numpy.ndarray'>\n",
      "(500, 16)\n"
     ]
    }
   ],
   "source": [
    "print(type(X_test))\n",
    "print(X_test.shape)\n",
    "print(type(params_test))\n",
    "print(params_test.shape)"
   ]
  },
  {
   "cell_type": "code",
   "execution_count": 6,
   "id": "limited-printing",
   "metadata": {},
   "outputs": [],
   "source": [
    "# Sanity checks for numerical stability\n",
    "assert(np.sum(X_test == np.inf) == 0)\n",
    "assert(np.sum(X_test == -np.inf) == 0)\n",
    "assert(np.sum(X_test == np.nan) == 0)"
   ]
  },
  {
   "cell_type": "code",
   "execution_count": 7,
   "id": "robust-alexander",
   "metadata": {},
   "outputs": [
    {
     "name": "stdout",
     "output_type": "stream",
     "text": [
      "(500, 100, 7)\n",
      "(500, 16)\n"
     ]
    }
   ],
   "source": [
    "print(X_test.shape)\n",
    "print(params_test.shape)"
   ]
  },
  {
   "cell_type": "code",
   "execution_count": 8,
   "id": "meaning-clinic",
   "metadata": {},
   "outputs": [],
   "source": [
    "# Instantiate model\n",
    "summary_net = SequenceNet()\n",
    "model = BayesFlow(inv_meta, n_inv_blocks, theta_dim, summary_net=summary_net, permute=True)"
   ]
  },
  {
   "cell_type": "code",
   "execution_count": null,
   "id": "stylish-maintenance",
   "metadata": {},
   "outputs": [],
   "source": [
    "true_vs_estimated(model, X_test, params_test, n_samples_posterior, parameter_names, figsize=(12, 4))"
   ]
  },
  {
   "cell_type": "code",
   "execution_count": 9,
   "id": "pediatric-absolute",
   "metadata": {},
   "outputs": [
    {
     "name": "stdout",
     "output_type": "stream",
     "text": [
      "Initializing from scratch.\n"
     ]
    }
   ],
   "source": [
    "checkpoint = tf.train.Checkpoint(step=global_step, optimizer=optimizer, net=model)\n",
    "manager = tf.train.CheckpointManager(checkpoint, './checkpoints/{}'.format(ckpt_file), max_to_keep=3)\n",
    "checkpoint.restore(manager.latest_checkpoint)\n",
    "if manager.latest_checkpoint:\n",
    "    print(\"Restored from {}\".format(manager.latest_checkpoint))\n",
    "else:\n",
    "    print(\"Initializing from scratch.\")"
   ]
  },
  {
   "cell_type": "code",
   "execution_count": 10,
   "id": "scenic-december",
   "metadata": {},
   "outputs": [
    {
     "name": "stderr",
     "output_type": "stream",
     "text": [
      "Training epoch 1: 100%|██████████| 1000/1000 [05:27<00:00,  3.05it/s, Iteration: 1000, Loss: -70.67386627197266]\n",
      "Training epoch 2: 100%|██████████| 1000/1000 [05:48<00:00,  2.87it/s, Iteration: 1000, Loss: -82.42330932617188]\n",
      "Training epoch 3: 100%|██████████| 1000/1000 [06:05<00:00,  2.74it/s, Iteration: 1000, Loss: -87.320556640625]\n",
      "Training epoch 4: 100%|██████████| 1000/1000 [06:08<00:00,  2.72it/s, Iteration: 1000, Loss: -89.75025939941406]\n",
      "Training epoch 5: 100%|██████████| 1000/1000 [06:17<00:00,  2.65it/s, Iteration: 1000, Loss: -95.27183532714844]\n",
      "Training epoch 6: 100%|██████████| 1000/1000 [06:10<00:00,  2.70it/s, Iteration: 1000, Loss: -95.35028839111328]\n",
      "Training epoch 7: 100%|██████████| 1000/1000 [05:41<00:00,  2.93it/s, Iteration: 1000, Loss: -98.63180541992188]\n",
      "Training epoch 8: 100%|██████████| 1000/1000 [05:31<00:00,  3.01it/s, Iteration: 1000, Loss: -68.34657287597656]\n",
      "Training epoch 9: 100%|██████████| 1000/1000 [05:37<00:00,  2.96it/s, Iteration: 1000, Loss: -95.97615051269531]\n",
      "Training epoch 10: 100%|██████████| 1000/1000 [05:36<00:00,  2.98it/s, Iteration: 1000, Loss: -102.7391357421875]\n",
      "Training epoch 11: 100%|██████████| 1000/1000 [05:35<00:00,  2.98it/s, Iteration: 1000, Loss: -103.11750030517578]\n",
      "Training epoch 12: 100%|██████████| 1000/1000 [05:44<00:00,  2.90it/s, Iteration: 1000, Loss: -104.73267364501953]\n",
      "Training epoch 13: 100%|██████████| 1000/1000 [05:40<00:00,  2.94it/s, Iteration: 1000, Loss: -106.66519927978516]\n",
      "Training epoch 14: 100%|██████████| 1000/1000 [05:37<00:00,  2.96it/s, Iteration: 1000, Loss: -107.8973617553711]\n",
      "Training epoch 15: 100%|██████████| 1000/1000 [05:46<00:00,  2.89it/s, Iteration: 1000, Loss: -108.98426818847656]\n",
      "Training epoch 16: 100%|██████████| 1000/1000 [05:45<00:00,  2.89it/s, Iteration: 1000, Loss: -108.8783950805664]\n",
      "Training epoch 17: 100%|██████████| 1000/1000 [05:59<00:00,  2.78it/s, Iteration: 1000, Loss: -111.31541442871094]\n",
      "Training epoch 18: 100%|██████████| 1000/1000 [05:48<00:00,  2.87it/s, Iteration: 1000, Loss: -109.39555358886719]\n",
      "Training epoch 19: 100%|██████████| 1000/1000 [05:48<00:00,  2.87it/s, Iteration: 1000, Loss: -113.7864990234375]\n",
      "Training epoch 20: 100%|██████████| 1000/1000 [05:55<00:00,  2.81it/s, Iteration: 1000, Loss: -113.74699401855469]\n",
      "Training epoch 21: 100%|██████████| 1000/1000 [05:44<00:00,  2.90it/s, Iteration: 1000, Loss: -113.8575439453125]\n",
      "Training epoch 22: 100%|██████████| 1000/1000 [05:46<00:00,  2.88it/s, Iteration: 1000, Loss: -116.85639953613281]\n",
      "Training epoch 23: 100%|██████████| 1000/1000 [06:04<00:00,  2.74it/s, Iteration: 1000, Loss: -115.64016723632812]\n",
      "Training epoch 24: 100%|██████████| 1000/1000 [05:57<00:00,  2.80it/s, Iteration: 1000, Loss: -115.93505096435547]\n",
      "Training epoch 25: 100%|██████████| 1000/1000 [05:46<00:00,  2.88it/s, Iteration: 1000, Loss: -88.45783996582031]\n",
      "Training epoch 26: 100%|██████████| 1000/1000 [05:50<00:00,  2.85it/s, Iteration: 1000, Loss: -107.88833618164062]\n",
      "Training epoch 27: 100%|██████████| 1000/1000 [05:46<00:00,  2.89it/s, Iteration: 1000, Loss: -117.29998016357422]\n",
      "Training epoch 28: 100%|██████████| 1000/1000 [05:39<00:00,  2.94it/s, Iteration: 1000, Loss: -116.33011627197266]\n",
      "Training epoch 29: 100%|██████████| 1000/1000 [05:41<00:00,  2.93it/s, Iteration: 1000, Loss: -117.61771392822266]\n",
      "Training epoch 30: 100%|██████████| 1000/1000 [05:49<00:00,  2.86it/s, Iteration: 1000, Loss: -116.924072265625]\n",
      "Training epoch 31: 100%|██████████| 1000/1000 [06:07<00:00,  2.72it/s, Iteration: 1000, Loss: -118.95026397705078]\n",
      "Training epoch 32: 100%|██████████| 1000/1000 [05:46<00:00,  2.88it/s, Iteration: 1000, Loss: -117.53712463378906]\n",
      "Training epoch 33: 100%|██████████| 1000/1000 [05:39<00:00,  2.95it/s, Iteration: 1000, Loss: -119.66622924804688]\n",
      "Training epoch 34: 100%|██████████| 1000/1000 [05:59<00:00,  2.78it/s, Iteration: 1000, Loss: -117.59931945800781]\n",
      "Training epoch 35: 100%|██████████| 1000/1000 [05:36<00:00,  2.97it/s, Iteration: 1000, Loss: -120.66371154785156]\n",
      "Training epoch 36: 100%|██████████| 1000/1000 [06:18<00:00,  2.64it/s, Iteration: 1000, Loss: -120.9032211303711]\n",
      "Training epoch 37: 100%|██████████| 1000/1000 [06:00<00:00,  2.77it/s, Iteration: 1000, Loss: -119.74095153808594]\n",
      "Training epoch 38: 100%|██████████| 1000/1000 [05:56<00:00,  2.81it/s, Iteration: 1000, Loss: -122.002197265625]\n",
      "Training epoch 39: 100%|██████████| 1000/1000 [05:47<00:00,  2.87it/s, Iteration: 1000, Loss: -120.91534423828125]\n",
      "Training epoch 40: 100%|██████████| 1000/1000 [05:56<00:00,  2.81it/s, Iteration: 1000, Loss: -123.22757720947266]\n",
      "Training epoch 41: 100%|██████████| 1000/1000 [06:00<00:00,  2.77it/s, Iteration: 1000, Loss: -122.83175659179688]\n",
      "Training epoch 42: 100%|██████████| 1000/1000 [06:09<00:00,  2.71it/s, Iteration: 1000, Loss: -123.28256225585938]\n",
      "Training epoch 43: 100%|██████████| 1000/1000 [06:00<00:00,  2.77it/s, Iteration: 1000, Loss: -122.98092651367188]\n",
      "Training epoch 44: 100%|██████████| 1000/1000 [06:07<00:00,  2.72it/s, Iteration: 1000, Loss: -124.07568359375] \n",
      "Training epoch 45: 100%|██████████| 1000/1000 [06:15<00:00,  2.66it/s, Iteration: 1000, Loss: -122.48358154296875]\n",
      "Training epoch 46: 100%|██████████| 1000/1000 [05:59<00:00,  2.78it/s, Iteration: 1000, Loss: -122.85142517089844]\n",
      "Training epoch 47: 100%|██████████| 1000/1000 [06:16<00:00,  2.65it/s, Iteration: 1000, Loss: -124.9512710571289]\n",
      "Training epoch 48: 100%|██████████| 1000/1000 [05:41<00:00,  2.93it/s, Iteration: 1000, Loss: -124.72819519042969]\n",
      "Training epoch 49: 100%|██████████| 1000/1000 [05:42<00:00,  2.92it/s, Iteration: 1000, Loss: -124.29563903808594]\n",
      "Training epoch 50: 100%|██████████| 1000/1000 [05:54<00:00,  2.82it/s, Iteration: 1000, Loss: -124.99593353271484]\n",
      "Training epoch 51: 100%|██████████| 1000/1000 [05:41<00:00,  2.93it/s, Iteration: 1000, Loss: -125.3670425415039]\n",
      "Training epoch 52: 100%|██████████| 1000/1000 [06:31<00:00,  2.55it/s, Iteration: 1000, Loss: -123.91063690185547]\n",
      "Training epoch 53: 100%|██████████| 1000/1000 [06:29<00:00,  2.57it/s, Iteration: 1000, Loss: -125.46988677978516]\n",
      "Training epoch 54: 100%|██████████| 1000/1000 [06:01<00:00,  2.76it/s, Iteration: 1000, Loss: -125.3793716430664]\n",
      "Training epoch 55: 100%|██████████| 1000/1000 [07:02<00:00,  2.36it/s, Iteration: 1000, Loss: -125.5028076171875]\n",
      "Training epoch 56: 100%|██████████| 1000/1000 [06:44<00:00,  2.47it/s, Iteration: 1000, Loss: -126.05633544921875]\n",
      "Training epoch 57: 100%|██████████| 1000/1000 [06:42<00:00,  2.48it/s, Iteration: 1000, Loss: -126.88462829589844]\n",
      "Training epoch 58: 100%|██████████| 1000/1000 [06:36<00:00,  2.52it/s, Iteration: 1000, Loss: -126.72276306152344]\n",
      "Training epoch 59: 100%|██████████| 1000/1000 [06:34<00:00,  2.53it/s, Iteration: 1000, Loss: -127.46339416503906]\n",
      "Training epoch 60: 100%|██████████| 1000/1000 [06:57<00:00,  2.39it/s, Iteration: 1000, Loss: -126.1085205078125]\n",
      "Training epoch 61: 100%|██████████| 1000/1000 [07:04<00:00,  2.35it/s, Iteration: 1000, Loss: -126.26368713378906]\n",
      "Training epoch 62: 100%|██████████| 1000/1000 [06:35<00:00,  2.53it/s, Iteration: 1000, Loss: -126.89569091796875]\n",
      "Training epoch 63: 100%|██████████| 1000/1000 [06:41<00:00,  2.49it/s, Iteration: 1000, Loss: -126.9735336303711]\n",
      "Training epoch 64: 100%|██████████| 1000/1000 [06:57<00:00,  2.40it/s, Iteration: 1000, Loss: -127.67326354980469]\n",
      "Training epoch 65: 100%|██████████| 1000/1000 [06:51<00:00,  2.43it/s, Iteration: 1000, Loss: -127.03567504882812]\n",
      "Training epoch 66: 100%|██████████| 1000/1000 [06:17<00:00,  2.65it/s, Iteration: 1000, Loss: -127.56507110595703]\n",
      "Training epoch 67: 100%|██████████| 1000/1000 [06:49<00:00,  2.44it/s, Iteration: 1000, Loss: -126.9709243774414]\n",
      "Training epoch 68: 100%|██████████| 1000/1000 [06:38<00:00,  2.51it/s, Iteration: 1000, Loss: -127.92979431152344]\n",
      "Training epoch 69: 100%|██████████| 1000/1000 [07:01<00:00,  2.37it/s, Iteration: 1000, Loss: -127.79730224609375]\n",
      "Training epoch 70: 100%|██████████| 1000/1000 [06:42<00:00,  2.49it/s, Iteration: 1000, Loss: -127.95039367675781]\n",
      "Training epoch 71: 100%|██████████| 1000/1000 [06:45<00:00,  2.47it/s, Iteration: 1000, Loss: -126.96815490722656]\n"
     ]
    },
    {
     "name": "stderr",
     "output_type": "stream",
     "text": [
      "Training epoch 72: 100%|██████████| 1000/1000 [05:43<00:00,  2.91it/s, Iteration: 1000, Loss: -127.17548370361328]\n",
      "Training epoch 73: 100%|██████████| 1000/1000 [05:45<00:00,  2.89it/s, Iteration: 1000, Loss: -128.02883911132812]\n",
      "Training epoch 74: 100%|██████████| 1000/1000 [06:38<00:00,  2.51it/s, Iteration: 1000, Loss: -127.82180786132812]\n",
      "Training epoch 75: 100%|██████████| 1000/1000 [06:44<00:00,  2.47it/s, Iteration: 1000, Loss: -128.15403747558594]\n",
      "Training epoch 76: 100%|██████████| 1000/1000 [07:07<00:00,  2.34it/s, Iteration: 1000, Loss: -128.0611572265625]\n",
      "Training epoch 77: 100%|██████████| 1000/1000 [06:57<00:00,  2.39it/s, Iteration: 1000, Loss: -128.86434936523438]\n",
      "Training epoch 78: 100%|██████████| 1000/1000 [06:39<00:00,  2.50it/s, Iteration: 1000, Loss: -128.85975646972656]\n",
      "Training epoch 79: 100%|██████████| 1000/1000 [06:39<00:00,  2.50it/s, Iteration: 1000, Loss: -128.5668487548828]\n",
      "Training epoch 80: 100%|██████████| 1000/1000 [07:02<00:00,  2.37it/s, Iteration: 1000, Loss: -128.36993408203125]\n",
      "Training epoch 81: 100%|██████████| 1000/1000 [06:58<00:00,  2.39it/s, Iteration: 1000, Loss: -128.78494262695312]\n",
      "Training epoch 82: 100%|██████████| 1000/1000 [07:01<00:00,  2.37it/s, Iteration: 1000, Loss: -128.91445922851562]\n",
      "Training epoch 83: 100%|██████████| 1000/1000 [06:45<00:00,  2.47it/s, Iteration: 1000, Loss: -128.52786254882812]\n",
      "Training epoch 84: 100%|██████████| 1000/1000 [06:46<00:00,  2.46it/s, Iteration: 1000, Loss: -128.8929443359375]\n",
      "Training epoch 85: 100%|██████████| 1000/1000 [06:37<00:00,  2.52it/s, Iteration: 1000, Loss: -128.46405029296875]\n",
      "Training epoch 86: 100%|██████████| 1000/1000 [06:40<00:00,  2.49it/s, Iteration: 1000, Loss: -128.60275268554688]\n",
      "Training epoch 87: 100%|██████████| 1000/1000 [06:36<00:00,  2.52it/s, Iteration: 1000, Loss: -129.58224487304688]\n",
      "Training epoch 88: 100%|██████████| 1000/1000 [06:41<00:00,  2.49it/s, Iteration: 1000, Loss: -129.23486328125] \n",
      "Training epoch 89: 100%|██████████| 1000/1000 [06:31<00:00,  2.56it/s, Iteration: 1000, Loss: -128.79086303710938]\n",
      "Training epoch 90: 100%|██████████| 1000/1000 [06:30<00:00,  2.56it/s, Iteration: 1000, Loss: -128.43344116210938]\n",
      "Training epoch 91: 100%|██████████| 1000/1000 [9:58:17<00:00, 35.90s/it, Iteration: 1000, Loss: -128.26333618164062]   \n",
      "Training epoch 92: 100%|██████████| 1000/1000 [05:53<00:00,  2.83it/s, Iteration: 1000, Loss: -128.9242401123047]\n",
      "Training epoch 93: 100%|██████████| 1000/1000 [06:10<00:00,  2.70it/s, Iteration: 1000, Loss: -129.2309112548828]\n",
      "Training epoch 94: 100%|██████████| 1000/1000 [06:09<00:00,  2.71it/s, Iteration: 1000, Loss: -129.333984375]   \n",
      "Training epoch 95: 100%|██████████| 1000/1000 [06:11<00:00,  2.69it/s, Iteration: 1000, Loss: -128.66746520996094]\n",
      "Training epoch 96: 100%|██████████| 1000/1000 [05:57<00:00,  2.80it/s, Iteration: 1000, Loss: -129.23260498046875]\n",
      "Training epoch 97: 100%|██████████| 1000/1000 [06:15<00:00,  2.66it/s, Iteration: 1000, Loss: -129.00389099121094]\n",
      "Training epoch 98: 100%|██████████| 1000/1000 [06:06<00:00,  2.72it/s, Iteration: 1000, Loss: -129.2236328125]  \n",
      "Training epoch 99: 100%|██████████| 1000/1000 [06:21<00:00,  2.62it/s, Iteration: 1000, Loss: -129.042236328125]\n",
      "Training epoch 100: 100%|██████████| 1000/1000 [05:56<00:00,  2.80it/s, Iteration: 1000, Loss: -130.130126953125]\n"
     ]
    }
   ],
   "source": [
    "# %%time\n",
    "for ep in range(1, epochs + 1):\n",
    "    with tqdm(total=iterations_per_epoch, desc='Training epoch {}'.format(ep)) as p_bar:\n",
    "        losses = train_step(\n",
    "            model=model, \n",
    "            optimizer=optimizer,\n",
    "            loss_fn=maximum_likelihood_loss, \n",
    "            iterations=iterations_per_epoch,\n",
    "            batch_size=batch_size,\n",
    "            p_bar=p_bar,\n",
    "            global_step=global_step,\n",
    "            version='v6'\n",
    "        ) \n",
    "\n",
    "        # Manage checkpoint\n",
    "        manager.save()"
   ]
  },
  {
   "cell_type": "code",
   "execution_count": null,
   "id": "historic-civilization",
   "metadata": {},
   "outputs": [],
   "source": [
    "# Sample from trained model\n",
    "params_samples = model.sample(X_test, n_samples_posterior, to_numpy=True)\n",
    "\n",
    "# For each tseries compute mean of sampled posteriors\n",
    "# For each tseries, n_samples_posterior set of parameters were samples\n",
    "params_samples_mean = params_samples.mean(axis=0)"
   ]
  },
  {
   "cell_type": "code",
   "execution_count": null,
   "id": "hawaiian-restaurant",
   "metadata": {},
   "outputs": [],
   "source": [
    "params_samples_mean.shape"
   ]
  },
  {
   "cell_type": "code",
   "execution_count": null,
   "id": "macro-flash",
   "metadata": {},
   "outputs": [],
   "source": [
    "# Sampling sanity checks\n",
    "sc_params_samples_mean, sc_params_test, sc_params_samples, sc_X_test = sampling_sc(params_samples_mean, params_test, params_samples, X_test, version='v2')"
   ]
  },
  {
   "cell_type": "code",
   "execution_count": null,
   "id": "golden-speaker",
   "metadata": {},
   "outputs": [],
   "source": [
    "true_vs_estimated(model, sc_X_test, sc_params_test, n_samples_posterior, parameter_names, figsize=(12, 3), params_samples_mean=sc_params_samples_mean, filename='true_vs_estimated_v2')"
   ]
  },
  {
   "cell_type": "code",
   "execution_count": null,
   "id": "certain-unemployment",
   "metadata": {},
   "outputs": [],
   "source": [
    "# Select random tseries\n",
    "sel_idx = np.random.choice(sc_params_samples_mean.shape[0], 1, replace=False)"
   ]
  },
  {
   "cell_type": "code",
   "execution_count": null,
   "id": "direct-champion",
   "metadata": {},
   "outputs": [],
   "source": [
    "sel_params_samples = sc_params_samples[:, sel_idx, :].squeeze()\n",
    "sel_params_test = sc_params_test[sel_idx, :].squeeze()\n",
    "sel_X_test = sc_X_test[sel_idx, :].squeeze().reshape(-1, 5)"
   ]
  },
  {
   "cell_type": "code",
   "execution_count": null,
   "id": "incoming-virus",
   "metadata": {},
   "outputs": [],
   "source": [
    "plot_parameters_correlation(sel_params_samples, parameter_names, filename='parameters_correlation_v2')"
   ]
  },
  {
   "cell_type": "code",
   "execution_count": null,
   "id": "hollow-humanity",
   "metadata": {},
   "outputs": [],
   "source": [
    "# Resimulation\n",
    "t_obs = 100\n",
    "dt = 1\n",
    "t = np.linspace(0, t_obs, int(t_obs/dt))\n",
    "N = 1000\n",
    "init_vals = 1 - 1/N, 1/N, 0, 0, 0\n",
    "forward_model = partial(version_data_model, initial_values=init_vals, version='v2')"
   ]
  },
  {
   "cell_type": "code",
   "execution_count": null,
   "id": "annual-economy",
   "metadata": {},
   "outputs": [],
   "source": [
    "tseries = np.empty((sel_params_samples.shape[0], t_obs, 5))\n",
    "for i in range(sel_params_samples.shape[0]):\n",
    "    tseries[i, :, :] = forward_model(sel_params_samples[i, :], t=t)"
   ]
  },
  {
   "cell_type": "code",
   "execution_count": null,
   "id": "related-medication",
   "metadata": {
    "scrolled": true
   },
   "outputs": [],
   "source": [
    "labels = ['Susceptible', 'Exposed', 'Infected', 'Recovered', 'Removed']\n",
    "plot_tseries(tseries, labels)"
   ]
  },
  {
   "cell_type": "code",
   "execution_count": null,
   "id": "tropical-charter",
   "metadata": {},
   "outputs": [],
   "source": [
    "plot_predictions(t_obs, sel_X_test, tseries, filename='predictions_v2')"
   ]
  }
 ],
 "metadata": {
  "kernelspec": {
   "display_name": "Python 3",
   "language": "python",
   "name": "python3"
  },
  "language_info": {
   "codemirror_mode": {
    "name": "ipython",
    "version": 3
   },
   "file_extension": ".py",
   "mimetype": "text/x-python",
   "name": "python",
   "nbconvert_exporter": "python",
   "pygments_lexer": "ipython3",
   "version": "3.8.2"
  }
 },
 "nbformat": 4,
 "nbformat_minor": 5
}
